{
  "nbformat": 4,
  "nbformat_minor": 0,
  "metadata": {
    "colab": {
      "provenance": [],
      "mount_file_id": "1doHcgTzwoOJuogA7yyx3FurflgoGoxbg",
      "authorship_tag": "ABX9TyMpoQq0kCy/5ISTYJAhmuqP"
    },
    "kernelspec": {
      "name": "python3",
      "display_name": "Python 3"
    },
    "language_info": {
      "name": "python"
    }
  },
  "cells": [
    {
      "cell_type": "markdown",
      "source": [
        "##Install Libraries"
      ],
      "metadata": {
        "id": "9npymmvNQwbE"
      }
    },
    {
      "cell_type": "code",
      "execution_count": null,
      "metadata": {
        "colab": {
          "base_uri": "https://localhost:8080/"
        },
        "id": "BHCRnnp1Oyqg",
        "outputId": "892746cc-e53e-498a-8bb2-c0ad9353e5a6"
      },
      "outputs": [
        {
          "output_type": "stream",
          "name": "stdout",
          "text": [
            "git version 2.17.1\n"
          ]
        }
      ],
      "source": [
        "!git --version"
      ]
    },
    {
      "cell_type": "code",
      "source": [
        "!pip install librosa"
      ],
      "metadata": {
        "colab": {
          "base_uri": "https://localhost:8080/"
        },
        "id": "hBYNMZgtPEKK",
        "outputId": "ac78d138-4933-4026-8a27-2e54a051f9c0"
      },
      "execution_count": null,
      "outputs": [
        {
          "output_type": "stream",
          "name": "stdout",
          "text": [
            "Looking in indexes: https://pypi.org/simple, https://us-python.pkg.dev/colab-wheels/public/simple/\n",
            "Requirement already satisfied: librosa in /usr/local/lib/python3.8/dist-packages (0.8.1)\n",
            "Requirement already satisfied: joblib>=0.14 in /usr/local/lib/python3.8/dist-packages (from librosa) (1.2.0)\n",
            "Requirement already satisfied: packaging>=20.0 in /usr/local/lib/python3.8/dist-packages (from librosa) (21.3)\n",
            "Requirement already satisfied: audioread>=2.0.0 in /usr/local/lib/python3.8/dist-packages (from librosa) (3.0.0)\n",
            "Requirement already satisfied: soundfile>=0.10.2 in /usr/local/lib/python3.8/dist-packages (from librosa) (0.11.0)\n",
            "Requirement already satisfied: scipy>=1.0.0 in /usr/local/lib/python3.8/dist-packages (from librosa) (1.7.3)\n",
            "Requirement already satisfied: numpy>=1.15.0 in /usr/local/lib/python3.8/dist-packages (from librosa) (1.21.6)\n",
            "Requirement already satisfied: scikit-learn!=0.19.0,>=0.14.0 in /usr/local/lib/python3.8/dist-packages (from librosa) (1.0.2)\n",
            "Requirement already satisfied: pooch>=1.0 in /usr/local/lib/python3.8/dist-packages (from librosa) (1.6.0)\n",
            "Requirement already satisfied: numba>=0.43.0 in /usr/local/lib/python3.8/dist-packages (from librosa) (0.56.4)\n",
            "Requirement already satisfied: decorator>=3.0.0 in /usr/local/lib/python3.8/dist-packages (from librosa) (4.4.2)\n",
            "Requirement already satisfied: resampy>=0.2.2 in /usr/local/lib/python3.8/dist-packages (from librosa) (0.4.2)\n",
            "Requirement already satisfied: importlib-metadata in /usr/local/lib/python3.8/dist-packages (from numba>=0.43.0->librosa) (4.13.0)\n",
            "Requirement already satisfied: llvmlite<0.40,>=0.39.0dev0 in /usr/local/lib/python3.8/dist-packages (from numba>=0.43.0->librosa) (0.39.1)\n",
            "Requirement already satisfied: setuptools in /usr/local/lib/python3.8/dist-packages (from numba>=0.43.0->librosa) (57.4.0)\n",
            "Requirement already satisfied: pyparsing!=3.0.5,>=2.0.2 in /usr/local/lib/python3.8/dist-packages (from packaging>=20.0->librosa) (3.0.9)\n",
            "Requirement already satisfied: appdirs>=1.3.0 in /usr/local/lib/python3.8/dist-packages (from pooch>=1.0->librosa) (1.4.4)\n",
            "Requirement already satisfied: requests>=2.19.0 in /usr/local/lib/python3.8/dist-packages (from pooch>=1.0->librosa) (2.23.0)\n",
            "Requirement already satisfied: chardet<4,>=3.0.2 in /usr/local/lib/python3.8/dist-packages (from requests>=2.19.0->pooch>=1.0->librosa) (3.0.4)\n",
            "Requirement already satisfied: urllib3!=1.25.0,!=1.25.1,<1.26,>=1.21.1 in /usr/local/lib/python3.8/dist-packages (from requests>=2.19.0->pooch>=1.0->librosa) (1.24.3)\n",
            "Requirement already satisfied: idna<3,>=2.5 in /usr/local/lib/python3.8/dist-packages (from requests>=2.19.0->pooch>=1.0->librosa) (2.10)\n",
            "Requirement already satisfied: certifi>=2017.4.17 in /usr/local/lib/python3.8/dist-packages (from requests>=2.19.0->pooch>=1.0->librosa) (2022.9.24)\n",
            "Requirement already satisfied: threadpoolctl>=2.0.0 in /usr/local/lib/python3.8/dist-packages (from scikit-learn!=0.19.0,>=0.14.0->librosa) (3.1.0)\n",
            "Requirement already satisfied: cffi>=1.0 in /usr/local/lib/python3.8/dist-packages (from soundfile>=0.10.2->librosa) (1.15.1)\n",
            "Requirement already satisfied: pycparser in /usr/local/lib/python3.8/dist-packages (from cffi>=1.0->soundfile>=0.10.2->librosa) (2.21)\n",
            "Requirement already satisfied: zipp>=0.5 in /usr/local/lib/python3.8/dist-packages (from importlib-metadata->numba>=0.43.0->librosa) (3.11.0)\n"
          ]
        }
      ]
    },
    {
      "cell_type": "code",
      "source": [
        "!pip install audiolazy"
      ],
      "metadata": {
        "colab": {
          "base_uri": "https://localhost:8080/"
        },
        "id": "bnGrsCpLPD6O",
        "outputId": "5654dc76-d31e-469e-b3bb-e8a98eca5fcd"
      },
      "execution_count": 1,
      "outputs": [
        {
          "output_type": "stream",
          "name": "stdout",
          "text": [
            "Looking in indexes: https://pypi.org/simple, https://us-python.pkg.dev/colab-wheels/public/simple/\n",
            "Collecting audiolazy\n",
            "  Downloading audiolazy-0.6-py2.py3-none-any.whl (121 kB)\n",
            "\u001b[K     |████████████████████████████████| 121 kB 5.1 MB/s \n",
            "\u001b[?25hInstalling collected packages: audiolazy\n",
            "Successfully installed audiolazy-0.6\n"
          ]
        }
      ]
    },
    {
      "cell_type": "markdown",
      "source": [
        "##Import Libraries"
      ],
      "metadata": {
        "id": "4BIB2eFwSwfa"
      }
    },
    {
      "cell_type": "code",
      "source": [
        "import numpy as np\n",
        "import pandas as pd\n",
        "import matplotlib\n",
        "import scipy\n",
        "import seaborn\n",
        "import librosa\n",
        "import audiolazy\n",
        "import sklearn\n",
        "import os\n",
        "import glob\n",
        "import shutil\n",
        "\n",
        "import scipy.signal as sig\n",
        "from audiolazy import lazy_lpc"
      ],
      "metadata": {
        "id": "N_2jicJbSzwA"
      },
      "execution_count": 104,
      "outputs": []
    },
    {
      "cell_type": "markdown",
      "source": [
        "##Data Preparation"
      ],
      "metadata": {
        "id": "gAdLFYUhUO6Y"
      }
    },
    {
      "cell_type": "code",
      "source": [
        "# Assign dataset's path to variable\n",
        "dtsets = '/content/drive/MyDrive/Dataset TA/NewDataPrimer'\n",
        "\n",
        "emotions = ['bahagia', 'kecewa', 'marah', 'sedih']  # Type of emotion to be classified\n",
        "\n",
        "dtsets1 = '/content/drive/MyDrive/DataSpeechs'"
      ],
      "metadata": {
        "id": "Iy58QzVbUV4h"
      },
      "execution_count": 105,
      "outputs": []
    },
    {
      "cell_type": "code",
      "source": [
        "print(os.listdir(dtsets))\n",
        "print(os.listdir(dtsets1))"
      ],
      "metadata": {
        "colab": {
          "base_uri": "https://localhost:8080/"
        },
        "id": "tvxcyeX0gWlD",
        "outputId": "94c42afc-caa2-4376-8899-058ee7de7cac"
      },
      "execution_count": 106,
      "outputs": [
        {
          "output_type": "stream",
          "name": "stdout",
          "text": [
            "['Bahagia', 'Kecewa', 'Sedih', 'Marah']\n",
            "['Salman', 'Aka', 'Tasya', 'Syahri', 'Erzal', 'Sabda', 'Febby', 'Sarah', 'Citra', 'Raina']\n"
          ]
        }
      ]
    },
    {
      "cell_type": "code",
      "source": [
        "# Make folder for each data emotions and only need run this one time\n",
        "'''\n",
        "os.mkdir('/content/drive/MyDrive/SplitDataSpeech/Bahagia')\n",
        "os.mkdir('/content/drive/MyDrive/SplitDataSpeech/Kecewa')\n",
        "os.mkdir('/content/drive/MyDrive/SplitDataSpeech/Sedih')\n",
        "os.mkdir('/content/drive/MyDrive/SplitDataSpeech/Marah')\n",
        "'''"
      ],
      "metadata": {
        "id": "HC_eXzWuFq_v"
      },
      "execution_count": 9,
      "outputs": []
    },
    {
      "cell_type": "code",
      "source": [
        "'''\n",
        "Because the dataset used has not been separated according to the type of emotion and the model used is Unsupervised Learning,\n",
        "it is necessary to separate it according to the type of emotion first.\n",
        "This part is the code to separate the dataset according to the type of emotion into each emotion's folder,\n",
        "so that the labeling process will be easier.\n",
        "\n",
        "Note: We only need to run this one time.\n",
        "'''\n",
        "\n",
        "'''\n",
        "fol_bahagia = '/content/drive/MyDrive/SplitDataSpeech/Bahagia'\n",
        "fol_kecewa = '/content/drive/MyDrive/SplitDataSpeech/Kecewa'\n",
        "fol_marah = '/content/drive/MyDrive/SplitDataSpeech/Marah'\n",
        "fol_sedih = '/content/drive/MyDrive/SplitDataSpeech/Sedih'\n",
        "\n",
        "for foldername in sorted(os.listdir(dtsets1)):\n",
        "  folder = os.path.join(dtsets1, foldername)\n",
        "  #print(folder)\n",
        "  i = 0\n",
        "  for filename in sorted(os.listdir(folder)):\n",
        "    #print(filename)\n",
        "    file_path = os.path.join(folder, filename)\n",
        "    #print(file_path)\n",
        "    \n",
        "    if i <= 9:\n",
        "      shutil.copy2(file_path, fol_bahagia)\n",
        "    elif i in range(10, 20):\n",
        "      shutil.copy2(file_path, fol_marah)\n",
        "    elif i in range(20, 30):\n",
        "      shutil.copy2(file_path, fol_kecewa)\n",
        "    else:\n",
        "      shutil.copy2(file_path, fol_sedih)\n",
        "    i += 1\n",
        "\n",
        "'''"
      ],
      "metadata": {
        "id": "hPj7cKuGyqkG"
      },
      "execution_count": 117,
      "outputs": []
    },
    {
      "cell_type": "code",
      "source": [
        "# Folder checking in our datasets\n",
        "os.listdir('/content/drive/MyDrive/SplitDataSpeech')"
      ],
      "metadata": {
        "colab": {
          "base_uri": "https://localhost:8080/"
        },
        "id": "kn08JOXEcWGe",
        "outputId": "03ce55a3-4355-4648-cab7-be347736a1be"
      },
      "execution_count": 118,
      "outputs": [
        {
          "output_type": "execute_result",
          "data": {
            "text/plain": [
              "['Bahagia', 'Kecewa', 'Sedih', 'Marah']"
            ]
          },
          "metadata": {},
          "execution_count": 118
        }
      ]
    },
    {
      "cell_type": "markdown",
      "source": [
        "###EDA"
      ],
      "metadata": {
        "id": "6VJI-QyuhwNI"
      }
    },
    {
      "cell_type": "code",
      "source": [],
      "metadata": {
        "id": "jEp162QtexOg"
      },
      "execution_count": null,
      "outputs": []
    },
    {
      "cell_type": "markdown",
      "source": [
        "###Data Augmentation"
      ],
      "metadata": {
        "id": "wrxkzqLfhMJa"
      }
    },
    {
      "cell_type": "code",
      "source": [
        "def noise(signal):\n",
        "  \"\"\"\n",
        "  Adding White Noise.\n",
        "  \"\"\"\n",
        "  #signal, s_rate = lbr.load(wav, duration=2, sr=None)\n",
        "  noise_amp = 0.01*np.random.uniform()*np.amax(signal)   # more noise reduce the value to 0.5\n",
        "  signal = signal + noise_amp * np.random.normal(size=signal.shape[0])\n",
        "  return signal\n",
        "\n",
        "def stretch(signal, rate=0.8):\n",
        "  \"\"\"\n",
        "  Streching the Sound. Note that this expands the dataset slightly\n",
        "  \"\"\"\n",
        "  #signal, s_rate = lbr.load(wav, duration=2, sr=None)\n",
        "  signal = librosa.effects.time_stretch(signal, rate)\n",
        "  return signal\n",
        "\n",
        "def speedNpitch(signal):\n",
        "  \"\"\"\n",
        "  Speed and Pitch Tuning.\n",
        "  \"\"\"\n",
        "  #signal, s_rate = lbr.load(wav, duration=2, sr=None)\n",
        "  length_change = np.random.uniform(low=0.8, high = 1)\n",
        "  speed_fac = 1.2  / length_change\n",
        "  tmp = np.interp(np.arange(0, len(signal), speed_fac), np.arange(0, len(signal)), signal)\n",
        "  minlen = min(signal.shape[0], tmp.shape[0])\n",
        "  signal *= 0\n",
        "  signal[0:minlen] = tmp[0:minlen]\n",
        "  return signal"
      ],
      "metadata": {
        "id": "3B_iZdbghFdj"
      },
      "execution_count": null,
      "outputs": []
    },
    {
      "cell_type": "markdown",
      "source": [
        "## Linear Predictive Coding (LPC)"
      ],
      "metadata": {
        "id": "8Zpg05gGhd4s"
      }
    },
    {
      "cell_type": "code",
      "source": [
        "def LPC_feature(wav, order=8):\n",
        "  # Define LPF Features variable\n",
        "  lpc_features = []\n",
        "\n",
        "  # Read speech signal\n",
        "  signal, s_rate = librosa.load(wav, duration=2, sr=None)\n",
        "\n",
        "  # Pre-Emphasis\n",
        "  emphasized_signal = librosa.effects.preemphasis(signal, coef=0.97)\n",
        "\n",
        "  # Frame Blocking and Windowing\n",
        "  '''\n",
        "  frames_win = np.abs(lbr.stft(emphasized_signal)) # using kind of hann window\n",
        "  idx_frame = len(frames_win)//2\n",
        "  frames_win = frames_win[idx_frame]\n",
        "  '''\n",
        "\n",
        "  # Autocorrelation\n",
        "  autocorrelation = sig.fftconvolve(emphasized_signal, emphasized_signal[::-1])\n",
        "  autocorr_coeff = autocorrelation[autocorrelation.size//2:][:(order + 1)]      # Autocorrelation Coefficients\n",
        "\n",
        "  # LPC features\n",
        "  lpc_coeff_ld = lazy_lpc.levinson_durbin(autocorr_coeff, 3)\n",
        "  lpc_features = lpc_coeff_ld.numerator[1:]\n",
        "  \n",
        "  return lpc_features"
      ],
      "metadata": {
        "id": "7YoLo6_ThgsS"
      },
      "execution_count": null,
      "outputs": []
    },
    {
      "cell_type": "code",
      "source": [
        "LPC_feature('/content/drive/MyDrive/Dataset TA/NewDataPrimer/Bahagia/Aka Bahagia 1.wav')"
      ],
      "metadata": {
        "colab": {
          "base_uri": "https://localhost:8080/"
        },
        "id": "F5m--WBYiTYK",
        "outputId": "138b8400-1856-4dfa-ab3c-3d146368c15f"
      },
      "execution_count": null,
      "outputs": [
        {
          "output_type": "execute_result",
          "data": {
            "text/plain": [
              "[-0.924572209945653, 0.7073411839646861, -0.37092528522518536]"
            ]
          },
          "metadata": {},
          "execution_count": 11
        }
      ]
    },
    {
      "cell_type": "markdown",
      "source": [],
      "metadata": {
        "id": "x1G9XOTOizgd"
      }
    },
    {
      "cell_type": "code",
      "source": [
        "def load_dataset():\n",
        "  sounds, emotions = [], []\n",
        "\n",
        "  for dirname, _, filenames in os.walk(dtsets):\n",
        "    for filename in filenames:\n",
        "      #print(os.path.join(dirname, filename))\n",
        "      sounds.append(os.path.join(dirname, filename))\n",
        "      #print(filename)\n",
        "      label = filename.split(' ')[-2]\n",
        "      #print(label)\n",
        "      emotions.append(label.lower())\n",
        "  return {'Audio': sounds, 'Emotion': emotions}"
      ],
      "metadata": {
        "id": "i55j2sTdizMi"
      },
      "execution_count": null,
      "outputs": []
    },
    {
      "cell_type": "code",
      "source": [
        "import time\n",
        "\n",
        "start_time = time.time()\n",
        "Trial_dict = load_dataset()\n",
        "print(\"--- Data loaded. Loading time: %s seconds ---\" % (time.time() - start_time))"
      ],
      "metadata": {
        "colab": {
          "base_uri": "https://localhost:8080/"
        },
        "id": "CNL9sJSYj6pc",
        "outputId": "4e830ee4-8def-44a0-df41-0677f9acfab5"
      },
      "execution_count": null,
      "outputs": [
        {
          "output_type": "stream",
          "name": "stdout",
          "text": [
            "--- Data loaded. Loading time: 0.0053293704986572266 seconds ---\n"
          ]
        }
      ]
    },
    {
      "cell_type": "code",
      "source": [
        "audio = Trial_dict['Audio']\n",
        "label = Trial_dict['Emotion']\n",
        "\n",
        "data = pd.DataFrame(label, columns = ['Emotion'])\n",
        "data = pd.concat([data, pd.DataFrame(audio, columns = ['Path'])], axis=1)\n",
        "data.head(-1)"
      ],
      "metadata": {
        "colab": {
          "base_uri": "https://localhost:8080/",
          "height": 423
        },
        "id": "Dguh2p-SjHhy",
        "outputId": "8563aa56-0420-4eb4-cbe5-2ff92382de3c"
      },
      "execution_count": null,
      "outputs": [
        {
          "output_type": "execute_result",
          "data": {
            "text/plain": [
              "    Emotion                                               Path\n",
              "0   bahagia  /content/drive/MyDrive/Dataset TA/NewDataPrime...\n",
              "1   bahagia  /content/drive/MyDrive/Dataset TA/NewDataPrime...\n",
              "2   bahagia  /content/drive/MyDrive/Dataset TA/NewDataPrime...\n",
              "3   bahagia  /content/drive/MyDrive/Dataset TA/NewDataPrime...\n",
              "4   bahagia  /content/drive/MyDrive/Dataset TA/NewDataPrime...\n",
              "..      ...                                                ...\n",
              "74    marah  /content/drive/MyDrive/Dataset TA/NewDataPrime...\n",
              "75    marah  /content/drive/MyDrive/Dataset TA/NewDataPrime...\n",
              "76    marah  /content/drive/MyDrive/Dataset TA/NewDataPrime...\n",
              "77    marah  /content/drive/MyDrive/Dataset TA/NewDataPrime...\n",
              "78    marah  /content/drive/MyDrive/Dataset TA/NewDataPrime...\n",
              "\n",
              "[79 rows x 2 columns]"
            ],
            "text/html": [
              "\n",
              "  <div id=\"df-deae7018-f14a-48df-8eb4-f119c39afaa3\">\n",
              "    <div class=\"colab-df-container\">\n",
              "      <div>\n",
              "<style scoped>\n",
              "    .dataframe tbody tr th:only-of-type {\n",
              "        vertical-align: middle;\n",
              "    }\n",
              "\n",
              "    .dataframe tbody tr th {\n",
              "        vertical-align: top;\n",
              "    }\n",
              "\n",
              "    .dataframe thead th {\n",
              "        text-align: right;\n",
              "    }\n",
              "</style>\n",
              "<table border=\"1\" class=\"dataframe\">\n",
              "  <thead>\n",
              "    <tr style=\"text-align: right;\">\n",
              "      <th></th>\n",
              "      <th>Emotion</th>\n",
              "      <th>Path</th>\n",
              "    </tr>\n",
              "  </thead>\n",
              "  <tbody>\n",
              "    <tr>\n",
              "      <th>0</th>\n",
              "      <td>bahagia</td>\n",
              "      <td>/content/drive/MyDrive/Dataset TA/NewDataPrime...</td>\n",
              "    </tr>\n",
              "    <tr>\n",
              "      <th>1</th>\n",
              "      <td>bahagia</td>\n",
              "      <td>/content/drive/MyDrive/Dataset TA/NewDataPrime...</td>\n",
              "    </tr>\n",
              "    <tr>\n",
              "      <th>2</th>\n",
              "      <td>bahagia</td>\n",
              "      <td>/content/drive/MyDrive/Dataset TA/NewDataPrime...</td>\n",
              "    </tr>\n",
              "    <tr>\n",
              "      <th>3</th>\n",
              "      <td>bahagia</td>\n",
              "      <td>/content/drive/MyDrive/Dataset TA/NewDataPrime...</td>\n",
              "    </tr>\n",
              "    <tr>\n",
              "      <th>4</th>\n",
              "      <td>bahagia</td>\n",
              "      <td>/content/drive/MyDrive/Dataset TA/NewDataPrime...</td>\n",
              "    </tr>\n",
              "    <tr>\n",
              "      <th>...</th>\n",
              "      <td>...</td>\n",
              "      <td>...</td>\n",
              "    </tr>\n",
              "    <tr>\n",
              "      <th>74</th>\n",
              "      <td>marah</td>\n",
              "      <td>/content/drive/MyDrive/Dataset TA/NewDataPrime...</td>\n",
              "    </tr>\n",
              "    <tr>\n",
              "      <th>75</th>\n",
              "      <td>marah</td>\n",
              "      <td>/content/drive/MyDrive/Dataset TA/NewDataPrime...</td>\n",
              "    </tr>\n",
              "    <tr>\n",
              "      <th>76</th>\n",
              "      <td>marah</td>\n",
              "      <td>/content/drive/MyDrive/Dataset TA/NewDataPrime...</td>\n",
              "    </tr>\n",
              "    <tr>\n",
              "      <th>77</th>\n",
              "      <td>marah</td>\n",
              "      <td>/content/drive/MyDrive/Dataset TA/NewDataPrime...</td>\n",
              "    </tr>\n",
              "    <tr>\n",
              "      <th>78</th>\n",
              "      <td>marah</td>\n",
              "      <td>/content/drive/MyDrive/Dataset TA/NewDataPrime...</td>\n",
              "    </tr>\n",
              "  </tbody>\n",
              "</table>\n",
              "<p>79 rows × 2 columns</p>\n",
              "</div>\n",
              "      <button class=\"colab-df-convert\" onclick=\"convertToInteractive('df-deae7018-f14a-48df-8eb4-f119c39afaa3')\"\n",
              "              title=\"Convert this dataframe to an interactive table.\"\n",
              "              style=\"display:none;\">\n",
              "        \n",
              "  <svg xmlns=\"http://www.w3.org/2000/svg\" height=\"24px\"viewBox=\"0 0 24 24\"\n",
              "       width=\"24px\">\n",
              "    <path d=\"M0 0h24v24H0V0z\" fill=\"none\"/>\n",
              "    <path d=\"M18.56 5.44l.94 2.06.94-2.06 2.06-.94-2.06-.94-.94-2.06-.94 2.06-2.06.94zm-11 1L8.5 8.5l.94-2.06 2.06-.94-2.06-.94L8.5 2.5l-.94 2.06-2.06.94zm10 10l.94 2.06.94-2.06 2.06-.94-2.06-.94-.94-2.06-.94 2.06-2.06.94z\"/><path d=\"M17.41 7.96l-1.37-1.37c-.4-.4-.92-.59-1.43-.59-.52 0-1.04.2-1.43.59L10.3 9.45l-7.72 7.72c-.78.78-.78 2.05 0 2.83L4 21.41c.39.39.9.59 1.41.59.51 0 1.02-.2 1.41-.59l7.78-7.78 2.81-2.81c.8-.78.8-2.07 0-2.86zM5.41 20L4 18.59l7.72-7.72 1.47 1.35L5.41 20z\"/>\n",
              "  </svg>\n",
              "      </button>\n",
              "      \n",
              "  <style>\n",
              "    .colab-df-container {\n",
              "      display:flex;\n",
              "      flex-wrap:wrap;\n",
              "      gap: 12px;\n",
              "    }\n",
              "\n",
              "    .colab-df-convert {\n",
              "      background-color: #E8F0FE;\n",
              "      border: none;\n",
              "      border-radius: 50%;\n",
              "      cursor: pointer;\n",
              "      display: none;\n",
              "      fill: #1967D2;\n",
              "      height: 32px;\n",
              "      padding: 0 0 0 0;\n",
              "      width: 32px;\n",
              "    }\n",
              "\n",
              "    .colab-df-convert:hover {\n",
              "      background-color: #E2EBFA;\n",
              "      box-shadow: 0px 1px 2px rgba(60, 64, 67, 0.3), 0px 1px 3px 1px rgba(60, 64, 67, 0.15);\n",
              "      fill: #174EA6;\n",
              "    }\n",
              "\n",
              "    [theme=dark] .colab-df-convert {\n",
              "      background-color: #3B4455;\n",
              "      fill: #D2E3FC;\n",
              "    }\n",
              "\n",
              "    [theme=dark] .colab-df-convert:hover {\n",
              "      background-color: #434B5C;\n",
              "      box-shadow: 0px 1px 3px 1px rgba(0, 0, 0, 0.15);\n",
              "      filter: drop-shadow(0px 1px 2px rgba(0, 0, 0, 0.3));\n",
              "      fill: #FFFFFF;\n",
              "    }\n",
              "  </style>\n",
              "\n",
              "      <script>\n",
              "        const buttonEl =\n",
              "          document.querySelector('#df-deae7018-f14a-48df-8eb4-f119c39afaa3 button.colab-df-convert');\n",
              "        buttonEl.style.display =\n",
              "          google.colab.kernel.accessAllowed ? 'block' : 'none';\n",
              "\n",
              "        async function convertToInteractive(key) {\n",
              "          const element = document.querySelector('#df-deae7018-f14a-48df-8eb4-f119c39afaa3');\n",
              "          const dataTable =\n",
              "            await google.colab.kernel.invokeFunction('convertToInteractive',\n",
              "                                                     [key], {});\n",
              "          if (!dataTable) return;\n",
              "\n",
              "          const docLinkHtml = 'Like what you see? Visit the ' +\n",
              "            '<a target=\"_blank\" href=https://colab.research.google.com/notebooks/data_table.ipynb>data table notebook</a>'\n",
              "            + ' to learn more about interactive tables.';\n",
              "          element.innerHTML = '';\n",
              "          dataTable['output_type'] = 'display_data';\n",
              "          await google.colab.output.renderOutput(dataTable, element);\n",
              "          const docLink = document.createElement('div');\n",
              "          docLink.innerHTML = docLinkHtml;\n",
              "          element.appendChild(docLink);\n",
              "        }\n",
              "      </script>\n",
              "    </div>\n",
              "  </div>\n",
              "  "
            ]
          },
          "metadata": {},
          "execution_count": 18
        }
      ]
    },
    {
      "cell_type": "markdown",
      "source": [
        "##Features Engineering"
      ],
      "metadata": {
        "id": "Ya-Y6slTiC-p"
      }
    },
    {
      "cell_type": "code",
      "source": [],
      "metadata": {
        "id": "TyU04yrDiGbN"
      },
      "execution_count": null,
      "outputs": []
    },
    {
      "cell_type": "markdown",
      "source": [
        "## Next (Soon...)"
      ],
      "metadata": {
        "id": "jMP1Fx_XUWhI"
      }
    }
  ]
}